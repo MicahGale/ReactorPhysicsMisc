{
 "cells": [
  {
   "cell_type": "code",
   "execution_count": 3,
   "metadata": {
    "collapsed": false
   },
   "outputs": [],
   "source": [
    "%matplotlib inline\n",
    "import matplotlib.pyplot as plt\n",
    "import openmc\n",
    "\n",
    "import os\n",
    "import numpy as np"
   ]
  },
  {
   "cell_type": "code",
   "execution_count": 4,
   "metadata": {
    "collapsed": true
   },
   "outputs": [],
   "source": [
    "#Initial starting source, uniform in fuel only\n",
    "bounds = [-0.4, -0.4, -0.4, 0.4, 0.4, 0.4]\n",
    "uniform_dist = openmc.stats.Box(bounds[:3], bounds[3:], only_fissionable=True)"
   ]
  },
  {
   "cell_type": "code",
   "execution_count": 60,
   "metadata": {
    "collapsed": false
   },
   "outputs": [],
   "source": [
    "batches=100\n",
    "settings = openmc.Settings()\n",
    "settings.source = openmc.source.Source(space=uniform_dist)\n",
    "settings.batches = batches\n",
    "settings.inactive = 25  # keep this at a min of 25, this is the number of power iterations performed, more is always better\n",
    "settings.particles = 10000  # increase this number to make your results more accurate\n",
    "settings.temperature = {'tolerance':10000,'multipole':True}\n",
    "#settings.temperature = {'method':'interpolation','multipole':True}\n",
    "settings.export_to_xml()\n",
    "\n",
    "def buildRange(lower, upper, steps):\n",
    "    out=[]\n",
    "    stepSize=(upper-lower)/(steps)\n",
    "    buffer=lower\n",
    "    while buffer<=upper:\n",
    "        out.append(buffer)\n",
    "        buffer+=stepSize\n",
    "    return out"
   ]
  },
  {
   "cell_type": "code",
   "execution_count": 47,
   "metadata": {
    "collapsed": true
   },
   "outputs": [],
   "source": [
    "\n",
    "def getU(T):\n",
    "    #got to watch out for those Uranium diggers\n",
    "    #nukeLife\n",
    "    uo2 = openmc.Material(1,\"fuel\",temperature=T)\n",
    "    uo2.add_element('U', 1.0, enrichment=4.0)\n",
    "    uo2.add_element('O', 2.0)\n",
    "    uo2.set_density('g/cc', 10.0)\n",
    "    return uo2\n",
    "def getZirc():\n",
    "    zirconium = openmc.Material(2, \"zirconium\", temperature=temp2)\n",
    "    zirconium.add_element('Zr', 1.0)\n",
    "    zirconium.set_density('g/cm3', 6.6)\n",
    "    return zirconium\n",
    "\n",
    "def getMod(mod, boron,T):\n",
    "    if(mod==\"H2O\"):\n",
    "            #this function creates borated light water, for other moderators you will need to replace\n",
    "        mod = openmc.model.borated_water(boron_ppm=boron, temperature=T,pressure=15)\n",
    "    elif(mod==\"D2O\"):\n",
    "        pass\n",
    "    elif(mod==\"GRPHT\"):\n",
    "        pass\n",
    "    return mod\n",
    "\n",
    "\n"
   ]
  },
  {
   "cell_type": "code",
   "execution_count": 57,
   "metadata": {
    "collapsed": false
   },
   "outputs": [],
   "source": [
    "def buildTallies(cell_filter):\n",
    "    ###################################Tallies#######################\n",
    "    #tallies over 2 energy groups with 4 eV being thermal bound\n",
    "    energy_filter = openmc.EnergyFilter([0., 4.0, 20.0e6])\n",
    "    t = openmc.Tally(1)\n",
    "    t.filters = [cell_filter, energy_filter]\n",
    "    # these are the main reaction rates you should need\n",
    "    t.scores = ['absorption','nu-fission','fission']\n",
    "    tallies = openmc.Tallies([t])\n",
    "    tallies.export_to_xml()\n",
    "    \n",
    "def parseK(batch):\n",
    "    #read in the tallies\n",
    "    sp = openmc.StatePoint('statepoint.'+batch+'.h5')\n",
    "    # this reads the tally with all reaction rates, not just absorption\n",
    "    tally = sp.get_tally(scores=['absorption'])\n",
    "    # this is the final k-effective of the simulation\n",
    "    os.remove('statepoint.'+batch+'.h5')\n",
    "    os.remove('summary.h5')\n",
    "    return sp.k_combined[0]"
   ]
  },
  {
   "cell_type": "code",
   "execution_count": 56,
   "metadata": {
    "collapsed": true
   },
   "outputs": [],
   "source": [
    "def buildRectangUni(modSetting, pitch, diameter,boron,modT,fuelT):\n",
    "    uo2=getU(fuelT)\n",
    "    mod=getMod(modSetting,boron,modT) #loads the moderator\n",
    "    mats = openmc.Materials([uo2, mod])\n",
    "    mats.export_to_xml()\n",
    "       \n",
    "    ####################build the surfaces################################\n",
    "    fuel_or = openmc.ZCylinder(R=diameter/2)\n",
    "    box = openmc.get_rectangular_prism(width=pitch, height=pitch,boundary_type='reflective')\n",
    "        \n",
    "    #################Build the Cells #######################################\n",
    "    fuel_region = -fuel_or   #beautiful abuse of operator overloading\n",
    "    mod_region = box & +fuel_or\n",
    "    # c\n",
    "    # c Fuel \n",
    "    # c\n",
    "    # c throwback to MCNP\n",
    "    fuel = openmc.Cell(1, 'fuel')\n",
    "    fuel.fill = uo2\n",
    "    fuel.region = fuel_region\n",
    "    #\n",
    "    # Moderator \n",
    "    #\n",
    "    moderator = openmc.Cell(4, 'moderator')\n",
    "    moderator.fill = mod\n",
    "    moderator.region = mod_region\n",
    "       \n",
    "    #I am groot!\n",
    "    groot = openmc.Universe(cells=(fuel, moderator))\n",
    "    geom = openmc.Geometry(groot)\n",
    "    geom.export_to_xml()\n",
    "    cell_filter = openmc.CellFilter([fuel, moderator])\n",
    "    # tallies\n",
    "    buildTallies(cell_filter)"
   ]
  },
  {
   "cell_type": "code",
   "execution_count": null,
   "metadata": {
    "collapsed": false,
    "scrolled": false
   },
   "outputs": [
    {
     "name": "stderr",
     "output_type": "stream",
     "text": [
      "/opt/openmc/gnu-dev/openmc/mixin.py:71: IDWarning: Another Material instance already exists with id=1.\n",
      "  warn(msg, IDWarning)\n",
      "/opt/openmc/gnu-dev/openmc/data/data.py:251: UserWarning: Results are not valid for temperatures above 623.15 K.\n",
      "  warn(\"Results are not valid for temperatures above 623.15 K.\")\n",
      "/opt/openmc/gnu-dev/openmc/data/data.py:271: UserWarning: Results are not valid for temperatures above saturation (above the boiling point).\n",
      "  warn(\"Results are not valid for temperatures above saturation \"\n",
      "/opt/openmc/gnu-dev/openmc/mixin.py:71: IDWarning: Another Cell instance already exists with id=1.\n",
      "  warn(msg, IDWarning)\n"
     ]
    },
    {
     "name": "stdout",
     "output_type": "stream",
     "text": [
      "\n",
      "                               %%%%%%%%%%%%%%%\n",
      "                          %%%%%%%%%%%%%%%%%%%%%%%%\n",
      "                       %%%%%%%%%%%%%%%%%%%%%%%%%%%%%%\n",
      "                     %%%%%%%%%%%%%%%%%%%%%%%%%%%%%%%%%%\n",
      "                   %%%%%%%%%%%%%%%%%%%%%%%%%%%%%%%%%%%%%%\n",
      "                  %%%%%%%%%%%%%%%%%%%%%%%%%%%%%%%%%%%%%%%%\n",
      "                                   %%%%%%%%%%%%%%%%%%%%%%%%\n",
      "                                    %%%%%%%%%%%%%%%%%%%%%%%%\n",
      "                ###############      %%%%%%%%%%%%%%%%%%%%%%%%\n",
      "               ##################     %%%%%%%%%%%%%%%%%%%%%%%\n",
      "               ###################     %%%%%%%%%%%%%%%%%%%%%%%\n",
      "               ####################     %%%%%%%%%%%%%%%%%%%%%%\n",
      "               #####################     %%%%%%%%%%%%%%%%%%%%%\n",
      "               ######################     %%%%%%%%%%%%%%%%%%%%\n",
      "               #######################     %%%%%%%%%%%%%%%%%%\n",
      "                #######################     %%%%%%%%%%%%%%%%%\n",
      "                ######################     %%%%%%%%%%%%%%%%%\n",
      "                 ####################     %%%%%%%%%%%%%%%%%\n",
      "                   #################     %%%%%%%%%%%%%%%%%\n",
      "                    ###############     %%%%%%%%%%%%%%%%\n",
      "                      ############     %%%%%%%%%%%%%%%\n",
      "                         ########     %%%%%%%%%%%%%%\n",
      "                                     %%%%%%%%%%%\n",
      "\n",
      "                   | The OpenMC Monte Carlo Code\n",
      "         Copyright | 2011-2018 Massachusetts Institute of Technology\n",
      "           License | http://openmc.readthedocs.io/en/latest/license.html\n",
      "           Version | 0.10.0\n",
      "          Git SHA1 | 6cb13395dcc1d94c5c6fce51b02ca4035465afc1\n",
      "         Date/Time | 2018-04-03 17:40:29\n",
      "     MPI Processes | 1\n",
      "    OpenMP Threads | 12\n",
      "\n",
      " Reading settings XML file...\n",
      " Reading cross sections XML file...\n",
      " Reading materials XML file...\n",
      " Reading geometry XML file...\n",
      " Building neighboring cells lists for each surface...\n",
      " Reading U234 from /home/shared/nuclear-data/nndc_hdf5/U234.h5\n",
      " Loading Multipole XS table:\n",
      " /home/shared/nuclear-data/windowed_multipole/092234.h5\n",
      " Reading U235 from /home/shared/nuclear-data/nndc_hdf5/U235.h5\n",
      " Loading Multipole XS table:\n",
      " /home/shared/nuclear-data/windowed_multipole/092235.h5\n",
      " Reading U238 from /home/shared/nuclear-data/nndc_hdf5/U238.h5\n",
      " Loading Multipole XS table:\n",
      " /home/shared/nuclear-data/windowed_multipole/092238.h5\n",
      " Reading U236 from /home/shared/nuclear-data/nndc_hdf5/U236.h5\n",
      " Reading O16 from /home/shared/nuclear-data/nndc_hdf5/O16.h5\n",
      " Reading O17 from /home/shared/nuclear-data/nndc_hdf5/O17.h5\n",
      " Reading H1 from /home/shared/nuclear-data/nndc_hdf5/H1.h5\n",
      " Reading H2 from /home/shared/nuclear-data/nndc_hdf5/H2.h5\n",
      " Reading B10 from /home/shared/nuclear-data/nndc_hdf5/B10.h5\n",
      " Reading B11 from /home/shared/nuclear-data/nndc_hdf5/B11.h5\n",
      " Reading c_H_in_H2O from /home/shared/nuclear-data/nndc_hdf5/c_H_in_H2O.h5\n",
      " Maximum neutron transport energy: 2.00000E+07 eV for U235\n",
      " Reading tallies XML file...\n",
      " Writing summary.h5 file...\n",
      " Initializing source particles...\n",
      "\n",
      " ====================>     K EIGENVALUE SIMULATION     <====================\n",
      "\n",
      "  Bat./Gen.      k            Average k         \n",
      "  =========   ========   ====================   \n",
      "        1/1    0.73167                       \n",
      "        2/1    0.73800                       \n",
      "        3/1    0.72937                       \n",
      "        4/1    0.72609                       \n",
      "        5/1    0.72924                       \n",
      "        6/1    0.73483                       \n",
      "        7/1    0.74756                       \n",
      "        8/1    0.73057                       \n",
      "        9/1    0.72860                       \n",
      "       10/1    0.73278                       \n",
      "       11/1    0.72757                       \n",
      "       12/1    0.73153                       \n",
      "       13/1    0.73626                       \n",
      "       14/1    0.74083                       \n",
      "       15/1    0.74013                       \n",
      "       16/1    0.73209                       \n",
      "       17/1    0.71488                       \n",
      "       18/1    0.71930                       \n",
      "       19/1    0.74835                       \n",
      "       20/1    0.73353                       \n",
      "       21/1    0.73751                       \n",
      "       22/1    0.73131                       \n",
      "       23/1    0.73268                       \n",
      "       24/1    0.73621                       \n",
      "       25/1    0.73561                       \n",
      "       26/1    0.73487                       \n",
      "       27/1    0.75197    0.74342 +/- 0.00855\n",
      "       28/1    0.72742    0.73809 +/- 0.00727\n",
      "       29/1    0.73335    0.73690 +/- 0.00527\n",
      "       30/1    0.74579    0.73868 +/- 0.00445\n",
      "       31/1    0.72980    0.73720 +/- 0.00393\n",
      "       32/1    0.71168    0.73355 +/- 0.00493\n",
      "       33/1    0.73213    0.73338 +/- 0.00427\n",
      "       34/1    0.74104    0.73423 +/- 0.00386\n",
      "       35/1    0.74658    0.73546 +/- 0.00367\n",
      "       36/1    0.73192    0.73514 +/- 0.00333\n",
      "       37/1    0.73144    0.73483 +/- 0.00306\n",
      "       38/1    0.74941    0.73595 +/- 0.00303\n",
      "       39/1    0.73538    0.73591 +/- 0.00281\n",
      "       40/1    0.72465    0.73516 +/- 0.00272\n",
      "       41/1    0.73448    0.73512 +/- 0.00254\n",
      "       42/1    0.72783    0.73469 +/- 0.00243\n",
      "       43/1    0.73143    0.73451 +/- 0.00229\n",
      "       44/1    0.74451    0.73504 +/- 0.00223\n",
      "       45/1    0.73327    0.73495 +/- 0.00212\n",
      "       46/1    0.73567    0.73498 +/- 0.00202\n",
      "       47/1    0.73053    0.73478 +/- 0.00193\n",
      "       48/1    0.73065    0.73460 +/- 0.00186\n",
      "       49/1    0.73847    0.73476 +/- 0.00179\n",
      "       50/1    0.74357    0.73511 +/- 0.00175\n",
      "       51/1    0.74728    0.73558 +/- 0.00174\n",
      "       52/1    0.72267    0.73510 +/- 0.00174\n",
      "       53/1    0.73434    0.73508 +/- 0.00168\n",
      "       54/1    0.73537    0.73509 +/- 0.00162\n",
      "       55/1    0.73582    0.73511 +/- 0.00157\n"
     ]
    }
   ],
   "source": [
    "pitch = buildRange(2,5,10)\n",
    "boron = [0]\n",
    "nt = len(pitch)\n",
    "nb = len(boron)\n",
    "modT = 900  #fuel temp\n",
    "fuelT = 600  #mod temp\n",
    "modSetting=\"H2O\"\n",
    "diameter=1.0\n",
    "k = np.zeros([nt,nb])\n",
    "for m in range(nb):\n",
    "    for j in range(nt):\n",
    "        \n",
    "        #build the problem first\n",
    "        buildRectangUni(modSetting,pitch[j],diameter,boron[m],modT,fuelT)\n",
    "        openmc.run()\n",
    "        k[j,m] = sp.k_combined[0]"
   ]
  },
  {
   "cell_type": "code",
   "execution_count": 51,
   "metadata": {
    "collapsed": false
   },
   "outputs": [
    {
     "name": "stdout",
     "output_type": "stream",
     "text": [
      "[[ 0.]\n",
      " [ 0.]\n",
      " [ 0.]\n",
      " [ 0.]\n",
      " [ 0.]\n",
      " [ 0.]\n",
      " [ 0.]\n",
      " [ 0.]\n",
      " [ 0.]\n",
      " [ 0.]\n",
      " [ 0.]]\n"
     ]
    }
   ],
   "source": [
    "print(k)"
   ]
  },
  {
   "cell_type": "code",
   "execution_count": 25,
   "metadata": {
    "collapsed": false,
    "scrolled": true
   },
   "outputs": [
    {
     "data": {
      "text/plain": [
       "(array([ 1.1 ,  1.15,  1.2 ,  1.25,  1.3 ,  1.35,  1.4 ,  1.45,  1.5 ]),\n",
       " <a list of 9 Text yticklabel objects>)"
      ]
     },
     "execution_count": 25,
     "metadata": {},
     "output_type": "execute_result"
    },
    {
     "data": {
      "image/png": "[encoded data removed]",
      "text/plain": [
       "<matplotlib.figure.Figure at 0x2b895f2b9588>"
      ]
     },
     "metadata": {},
     "output_type": "display_data"
    }
   ],
   "source": [
    "plt.figure(figsize=(20,10))\n",
    "plt.plot(pitch,k[:,0], linewidth=10)\n",
    "plt.legend(['0ppm Boron'], fontsize=30)\n",
    "plt.xlabel('Pitch', fontsize=30)\n",
    "plt.ylabel('k', fontsize=30)\n",
    "plt.xticks(fontsize=24)\n",
    "plt.yticks(fontsize=24)"
   ]
  },
  {
   "cell_type": "code",
   "execution_count": null,
   "metadata": {
    "collapsed": true
   },
   "outputs": [],
   "source": []
  }
 ],
 "metadata": {
  "anaconda-cloud": {},
  "kernelspec": {
   "display_name": "Python 3",
   "language": "python",
   "name": "python3"
  },
  "language_info": {
   "codemirror_mode": {
    "name": "ipython",
    "version": 3
   },
   "file_extension": ".py",
   "mimetype": "text/x-python",
   "name": "python",
   "nbconvert_exporter": "python",
   "pygments_lexer": "ipython3",
   "version": "3.5.4"
  }
 },
 "nbformat": 4,
 "nbformat_minor": 1
}
