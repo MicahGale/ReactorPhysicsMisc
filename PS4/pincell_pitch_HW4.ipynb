{
 "cells": [
  {
   "cell_type": "code",
   "execution_count": 1,
   "metadata": {
    "collapsed": true,
    "scrolled": false
   },
   "outputs": [],
   "source": [
    "%matplotlib inline\n",
    "import matplotlib.pyplot as plt\n",
    "import openmc\n",
    "\n",
    "import os\n",
    "import numpy as np"
   ]
  },
  {
   "cell_type": "code",
   "execution_count": 2,
   "metadata": {
    "collapsed": false,
    "scrolled": false
   },
   "outputs": [],
   "source": [
    "#Initial starting source, uniform in fuel only\n",
    "bounds = [-0.4, -0.4, -0.4, 0.4, 0.4, 0.4]\n",
    "uniform_dist = openmc.stats.Box(bounds[:3], bounds[3:], only_fissionable=True)"
   ]
  },
  {
   "cell_type": "code",
   "execution_count": 22,
   "metadata": {
    "collapsed": true,
    "scrolled": false
   },
   "outputs": [],
   "source": [
    "batches=100\n",
    "settings = openmc.Settings()\n",
    "settings.source = openmc.source.Source(space=uniform_dist)\n",
    "settings.batches = batches\n",
    "settings.inactive = 25  # keep this at a min of 25, this is the number of power iterations performed, more is always better\n",
    "#settings.particles = 10000  # increase this number to make your results more accurate\n",
    "settings.particles=100\n",
    "settings.temperature = {'tolerance':10000,'multipole':True}\n",
    "#settings.temperature = {'method':'interpolation','multipole':True}\n",
    "settings.export_to_xml()\n",
    "\n",
    "def buildRange(lower, upper, steps):\n",
    "    out=[]\n",
    "    stepSize=(upper-lower)/(steps)\n",
    "    buffer=lower\n",
    "    while buffer<=upper:\n",
    "        out.append(buffer)\n",
    "        buffer+=stepSize\n",
    "    return out"
   ]
  },
  {
   "cell_type": "code",
   "execution_count": 23,
   "metadata": {
    "collapsed": false,
    "scrolled": false
   },
   "outputs": [],
   "source": [
    "\n",
    "def getU(T):\n",
    "    #got to watch out for those Uranium diggers\n",
    "    #nukeLife\n",
    "    uo2 = openmc.Material(1,\"fuel\",temperature=T)\n",
    "    uo2.add_element('U', 1.0, enrichment=4.0)\n",
    "    uo2.add_element('O', 2.0)\n",
    "    uo2.set_density('g/cc', 10.0)\n",
    "    return uo2\n",
    "def getZirc():\n",
    "    zirconium = openmc.Material(2, \"zirconium\", temperature=temp2)\n",
    "    zirconium.add_element('Zr', 1.0)\n",
    "    zirconium.set_density('g/cm3', 6.6)\n",
    "    return zirconium\n",
    "\n",
    "def getMod(mod, boron,T):\n",
    "    if(mod==\"H2O\"):\n",
    "            #this function creates borated light water, for other moderators you will need to replace\n",
    "        mod = openmc.model.borated_water(boron_ppm=boron, temperature=T,pressure=15)\n",
    "    elif(mod==\"D2O\"):\n",
    "        mod=openmc.Material(3,\"heavy_water\",temperature=T)\n",
    "        mod.add_nuclide('H2',2.0) #add D2\n",
    "        mod.add_element('O',1.0) #add 0\n",
    "        mod.set_density('g/cc',0.725) \n",
    "        mod.add_s_alpha_beta('c_D_in_D2O')\n",
    "        #https://webbook.nist.gov/cgi/fluid.cgi?P=15.5&TLow=600&THigh=601&TInc=0.5&Applet=on&Digits=5&ID=C7789200&Action=Load&Type=IsoBar&TUnit=K&PUnit=MPa&DUnit=kg%2Fm3&HUnit=kJ%2Fmol&WUnit=m%2Fs&VisUnit=uPa*s&STUnit=N%2Fm&RefState=DEF\n",
    "    elif(mod==\"GRPHT\"):\n",
    "        pass\n",
    "    return mod\n",
    "\n",
    "\n"
   ]
  },
  {
   "cell_type": "code",
   "execution_count": 56,
   "metadata": {
    "collapsed": true,
    "scrolled": false
   },
   "outputs": [],
   "source": [
    "def buildTallies(cell_filter):\n",
    "    ###################################Tallies#######################\n",
    "    #tallies over 2 energy groups with 4 eV being thermal bound\n",
    "    energy_filter = openmc.EnergyFilter([0., 4.0, 20.0e6])\n",
    "    t = openmc.Tally(1)\n",
    "    t.filters = [cell_filter, energy_filter]\n",
    "    # these are the main reaction rates you should need\n",
    "    t.scores = ['absorption','nu-fission','fission']\n",
    "    tallies = openmc.Tallies([t])\n",
    "    tallies.export_to_xml()\n",
    "    \n",
    "    \n",
    "def parseK(batch):\n",
    "    #read in the tallies\n",
    "    sp = openmc.StatePoint('statepoint.'+str(batch)+'.h5')\n",
    "    # this reads the tally with all reaction rates, not just absorption\n",
    "    tally = sp.get_tally(scores=['absorption'])\n",
    "    # this is the final k-effective of the simulation\n",
    "    os.remove('statepoint.'+str(batch)+'.h5')\n",
    "    os.remove('summary.h5')\n",
    "    return sp.k_combined[0]\n",
    "\n",
    "def parse4Factor(batch,fuel,mod):\n",
    "        #read in the tallies\n",
    "    sp = openmc.StatePoint('statepoint.'+str(batch)+'.h5')\n",
    "    \n",
    "    uniFilter = openmc.CellFilter([fuel, mod])\n",
    "    fuelFilter=openmc.cellFilter([fuel])\n",
    "    # this reads the tally with all reaction rates, not just absorption\n",
    "    tally = sp.get_tally(scores=['absorption'])\n",
    "    fission=tally.get_slice(scores=['fission'])\n",
    "    fuelFission=fission.get_slice(filters=[fuelFilter])\n",
    "    print(fission)\n",
    "    print(fission.mean)\n",
    "    # this is the final k-effective of the simulation\n",
    "    os.remove('statepoint.'+str(batch)+'.h5')\n",
    "    os.remove('summary.h5')\n",
    "    return sp.k_combined[0]"
   ]
  },
  {
   "cell_type": "code",
   "execution_count": 53,
   "metadata": {
    "collapsed": false,
    "scrolled": false
   },
   "outputs": [],
   "source": [
    "def buildRectangUni(modSetting, pitch, diameter,boron,modT,fuelT):\n",
    "    uo2=getU(fuelT)\n",
    "    mod=getMod(modSetting,boron,modT) #loads the moderator\n",
    "    mats = openmc.Materials([uo2, mod])\n",
    "    mats.export_to_xml()\n",
    "       \n",
    "    ####################build the surfaces################################\n",
    "    fuel_or = openmc.ZCylinder(R=diameter/2)\n",
    "    box = openmc.get_rectangular_prism(width=pitch, height=pitch,boundary_type='reflective')\n",
    "        \n",
    "    #################Build the Cells #######################################\n",
    "    fuel_region = -fuel_or   #beautiful abuse of operator overloading\n",
    "    mod_region = box & +fuel_or\n",
    "    # c\n",
    "    # c Fuel \n",
    "    # c\n",
    "    # c throwback to MCNP\n",
    "    fuel = openmc.Cell(1, 'fuel')\n",
    "    fuel.fill = uo2\n",
    "    fuel.region = fuel_region\n",
    "    #\n",
    "    # Moderator \n",
    "    #\n",
    "    moderator = openmc.Cell(4, 'moderator')\n",
    "    moderator.fill = mod\n",
    "    moderator.region = mod_region\n",
    "       \n",
    "    #I am groot!\n",
    "    groot = openmc.Universe(cells=(fuel, moderator))\n",
    "    geom = openmc.Geometry(groot)\n",
    "    geom.export_to_xml()\n",
    "    cell_filter = openmc.CellFilter([fuel, moderator])\n",
    "    # tallies\n",
    "    buildTallies(cell_filter)\n",
    "    return (fuel,mod)"
   ]
  },
  {
   "cell_type": "code",
   "execution_count": 54,
   "metadata": {
    "collapsed": false,
    "scrolled": false
   },
   "outputs": [],
   "source": [
    "def Q1a():\n",
    "    pitch = buildRange(2,25,5)\n",
    "    boron = [0]\n",
    "    nt = len(pitch)\n",
    "    nb = len(boron)\n",
    "    modT = 900  #fuel temp\n",
    "    fuelT = 600  #mod temp\n",
    "    modSetting=\"D2O\"\n",
    "    diameter=1.0\n",
    "    k = np.zeros([nt,nb])\n",
    "    for m in range(nb):\n",
    "        for j in range(nt):\n",
    "            #build the problem first\n",
    "            buildRectangUni(modSetting,pitch[j],diameter,boron[m],modT,fuelT)\n",
    "            print (\"Pitch: \"+str(pitch[j])+\" Boron: \"+str(boron[m]))\n",
    "            openmc.run(output=False)\n",
    "            k[j,m] = parseK(batches)\n",
    "    return (pitch,k)\n",
    "\n",
    "def Q1b(): #calculates the 4 factor formula for the thingy\n",
    "    pitch = buildRange(2,25,5)\n",
    "    boron = [0]\n",
    "    nt = len(pitch)\n",
    "    nb = len(boron)\n",
    "    modT = 900  #fuel temp\n",
    "    fuelT = 600  #mod temp\n",
    "    modSetting=\"D2O\"\n",
    "    diameter=1.0\n",
    "    k = np.zeros([nt,4])\n",
    "    for m in range(nb):\n",
    "        for j in range(nt):\n",
    "            #build the problem first\n",
    "            (fuel, mod)= buildRectangUni(modSetting,pitch[j],diameter,boron[m],modT,fuelT)\n",
    "            print (\"Pitch: \"+str(pitch[j])+\" Boron: \"+str(boron[m]))\n",
    "            openmc.run(output=False)\n",
    "            k[j,m] = parse4Factor(batches,fuel,mod)\n",
    "\n",
    "\n",
    "def plotK(pitch,k,fileName):\n",
    "    plt.figure(figsize=(20,10))\n",
    "    plt.plot(pitch,k[:,0], linewidth=10)\n",
    "    plt.legend(['0ppm Boron'], fontsize=30)\n",
    "    plt.xlabel('Pitch', fontsize=30)\n",
    "    plt.ylabel('k', fontsize=30)\n",
    "    plt.xticks(fontsize=24)\n",
    "    plt.yticks(fontsize=24)\n",
    "    plt.savefig(fileName+'.pdf', bbox_inches='tight')"
   ]
  },
  {
   "cell_type": "code",
   "execution_count": 58,
   "metadata": {
    "collapsed": false,
    "scrolled": false
   },
   "outputs": [
    {
     "name": "stderr",
     "output_type": "stream",
     "text": [
      "/opt/openmc/gnu-dev/openmc/mixin.py:71: IDWarning: Another Material instance already exists with id=1.\n",
      "  warn(msg, IDWarning)\n",
      "/opt/openmc/gnu-dev/openmc/mixin.py:71: IDWarning: Another Material instance already exists with id=3.\n",
      "  warn(msg, IDWarning)\n",
      "/opt/openmc/gnu-dev/openmc/mixin.py:71: IDWarning: Another Cell instance already exists with id=1.\n",
      "  warn(msg, IDWarning)\n",
      "/opt/openmc/gnu-dev/openmc/mixin.py:71: IDWarning: Another Cell instance already exists with id=4.\n",
      "  warn(msg, IDWarning)\n",
      "/opt/openmc/gnu-dev/openmc/mixin.py:71: IDWarning: Another Tally instance already exists with id=1.\n",
      "  warn(msg, IDWarning)\n"
     ]
    },
    {
     "name": "stdout",
     "output_type": "stream",
     "text": [
      "Pitch: 2 Boron: 0\n"
     ]
    },
    {
     "ename": "AttributeError",
     "evalue": "'tuple' object has no attribute '__name__'",
     "output_type": "error",
     "traceback": [
      "\u001b[1;31m---------------------------------------------------------------------------\u001b[0m",
      "\u001b[1;31mAttributeError\u001b[0m                            Traceback (most recent call last)",
      "\u001b[1;32m<ipython-input-58-6c655d0a602c>\u001b[0m in \u001b[0;36m<module>\u001b[1;34m()\u001b[0m\n\u001b[0;32m      4\u001b[0m     \u001b[0mQ1b\u001b[0m\u001b[1;33m(\u001b[0m\u001b[1;33m)\u001b[0m\u001b[1;33m\u001b[0m\u001b[0m\n\u001b[0;32m      5\u001b[0m \u001b[1;33m\u001b[0m\u001b[0m\n\u001b[1;32m----> 6\u001b[1;33m \u001b[0mmain\u001b[0m\u001b[1;33m(\u001b[0m\u001b[1;33m)\u001b[0m\u001b[1;33m\u001b[0m\u001b[0m\n\u001b[0m",
      "\u001b[1;32m<ipython-input-58-6c655d0a602c>\u001b[0m in \u001b[0;36mmain\u001b[1;34m()\u001b[0m\n\u001b[0;32m      2\u001b[0m     \u001b[1;31m#result=Q1a()\u001b[0m\u001b[1;33m\u001b[0m\u001b[1;33m\u001b[0m\u001b[0m\n\u001b[0;32m      3\u001b[0m     \u001b[1;31m#plotK(result[0],result[1],'Q1acurve')\u001b[0m\u001b[1;33m\u001b[0m\u001b[1;33m\u001b[0m\u001b[0m\n\u001b[1;32m----> 4\u001b[1;33m     \u001b[0mQ1b\u001b[0m\u001b[1;33m(\u001b[0m\u001b[1;33m)\u001b[0m\u001b[1;33m\u001b[0m\u001b[0m\n\u001b[0m\u001b[0;32m      5\u001b[0m \u001b[1;33m\u001b[0m\u001b[0m\n\u001b[0;32m      6\u001b[0m \u001b[0mmain\u001b[0m\u001b[1;33m(\u001b[0m\u001b[1;33m)\u001b[0m\u001b[1;33m\u001b[0m\u001b[0m\n",
      "\u001b[1;32m<ipython-input-54-ae836475d3a6>\u001b[0m in \u001b[0;36mQ1b\u001b[1;34m()\u001b[0m\n\u001b[0;32m     34\u001b[0m             \u001b[0mprint\u001b[0m \u001b[1;33m(\u001b[0m\u001b[1;34m\"Pitch: \"\u001b[0m\u001b[1;33m+\u001b[0m\u001b[0mstr\u001b[0m\u001b[1;33m(\u001b[0m\u001b[0mpitch\u001b[0m\u001b[1;33m[\u001b[0m\u001b[0mj\u001b[0m\u001b[1;33m]\u001b[0m\u001b[1;33m)\u001b[0m\u001b[1;33m+\u001b[0m\u001b[1;34m\" Boron: \"\u001b[0m\u001b[1;33m+\u001b[0m\u001b[0mstr\u001b[0m\u001b[1;33m(\u001b[0m\u001b[0mboron\u001b[0m\u001b[1;33m[\u001b[0m\u001b[0mm\u001b[0m\u001b[1;33m]\u001b[0m\u001b[1;33m)\u001b[0m\u001b[1;33m)\u001b[0m\u001b[1;33m\u001b[0m\u001b[0m\n\u001b[0;32m     35\u001b[0m             \u001b[0mopenmc\u001b[0m\u001b[1;33m.\u001b[0m\u001b[0mrun\u001b[0m\u001b[1;33m(\u001b[0m\u001b[0moutput\u001b[0m\u001b[1;33m=\u001b[0m\u001b[1;32mFalse\u001b[0m\u001b[1;33m)\u001b[0m\u001b[1;33m\u001b[0m\u001b[0m\n\u001b[1;32m---> 36\u001b[1;33m             \u001b[0mk\u001b[0m\u001b[1;33m[\u001b[0m\u001b[0mj\u001b[0m\u001b[1;33m,\u001b[0m\u001b[0mm\u001b[0m\u001b[1;33m]\u001b[0m \u001b[1;33m=\u001b[0m \u001b[0mparse4Factor\u001b[0m\u001b[1;33m(\u001b[0m\u001b[0mbatches\u001b[0m\u001b[1;33m,\u001b[0m\u001b[0mfuel\u001b[0m\u001b[1;33m,\u001b[0m\u001b[0mmod\u001b[0m\u001b[1;33m)\u001b[0m\u001b[1;33m\u001b[0m\u001b[0m\n\u001b[0m\u001b[0;32m     37\u001b[0m \u001b[1;33m\u001b[0m\u001b[0m\n\u001b[0;32m     38\u001b[0m \u001b[1;33m\u001b[0m\u001b[0m\n",
      "\u001b[1;32m<ipython-input-56-79e83a019e34>\u001b[0m in \u001b[0;36mparse4Factor\u001b[1;34m(batch, fuel, mod)\u001b[0m\n\u001b[0;32m     25\u001b[0m     \u001b[0msp\u001b[0m \u001b[1;33m=\u001b[0m \u001b[0mopenmc\u001b[0m\u001b[1;33m.\u001b[0m\u001b[0mStatePoint\u001b[0m\u001b[1;33m(\u001b[0m\u001b[1;34m'statepoint.'\u001b[0m\u001b[1;33m+\u001b[0m\u001b[0mstr\u001b[0m\u001b[1;33m(\u001b[0m\u001b[0mbatch\u001b[0m\u001b[1;33m)\u001b[0m\u001b[1;33m+\u001b[0m\u001b[1;34m'.h5'\u001b[0m\u001b[1;33m)\u001b[0m\u001b[1;33m\u001b[0m\u001b[0m\n\u001b[0;32m     26\u001b[0m \u001b[1;33m\u001b[0m\u001b[0m\n\u001b[1;32m---> 27\u001b[1;33m     \u001b[0muniFilter\u001b[0m \u001b[1;33m=\u001b[0m \u001b[0mopenmc\u001b[0m\u001b[1;33m.\u001b[0m\u001b[0mCellFilter\u001b[0m\u001b[1;33m(\u001b[0m\u001b[1;33m[\u001b[0m\u001b[0mfuel\u001b[0m\u001b[1;33m,\u001b[0m \u001b[0mmod\u001b[0m\u001b[1;33m]\u001b[0m\u001b[1;33m)\u001b[0m\u001b[1;33m\u001b[0m\u001b[0m\n\u001b[0m\u001b[0;32m     28\u001b[0m     \u001b[0mfuelFilter\u001b[0m\u001b[1;33m=\u001b[0m\u001b[0mopenmc\u001b[0m\u001b[1;33m.\u001b[0m\u001b[0mcellFilter\u001b[0m\u001b[1;33m(\u001b[0m\u001b[1;33m[\u001b[0m\u001b[0mfuel\u001b[0m\u001b[1;33m]\u001b[0m\u001b[1;33m)\u001b[0m\u001b[1;33m\u001b[0m\u001b[0m\n\u001b[0;32m     29\u001b[0m     \u001b[1;31m# this reads the tally with all reaction rates, not just absorption\u001b[0m\u001b[1;33m\u001b[0m\u001b[1;33m\u001b[0m\u001b[0m\n",
      "\u001b[1;32m/opt/openmc/gnu-dev/openmc/filter.py\u001b[0m in \u001b[0;36m__init__\u001b[1;34m(self, bins, filter_id)\u001b[0m\n\u001b[0;32m     95\u001b[0m \u001b[1;33m\u001b[0m\u001b[0m\n\u001b[0;32m     96\u001b[0m     \u001b[1;32mdef\u001b[0m \u001b[0m__init__\u001b[0m\u001b[1;33m(\u001b[0m\u001b[0mself\u001b[0m\u001b[1;33m,\u001b[0m \u001b[0mbins\u001b[0m\u001b[1;33m,\u001b[0m \u001b[0mfilter_id\u001b[0m\u001b[1;33m=\u001b[0m\u001b[1;32mNone\u001b[0m\u001b[1;33m)\u001b[0m\u001b[1;33m:\u001b[0m\u001b[1;33m\u001b[0m\u001b[0m\n\u001b[1;32m---> 97\u001b[1;33m         \u001b[0mself\u001b[0m\u001b[1;33m.\u001b[0m\u001b[0mbins\u001b[0m \u001b[1;33m=\u001b[0m \u001b[0mbins\u001b[0m\u001b[1;33m\u001b[0m\u001b[0m\n\u001b[0m\u001b[0;32m     98\u001b[0m         \u001b[0mself\u001b[0m\u001b[1;33m.\u001b[0m\u001b[0mid\u001b[0m \u001b[1;33m=\u001b[0m \u001b[0mfilter_id\u001b[0m\u001b[1;33m\u001b[0m\u001b[0m\n\u001b[0;32m     99\u001b[0m \u001b[1;33m\u001b[0m\u001b[0m\n",
      "\u001b[1;32m/opt/openmc/gnu-dev/openmc/filter.py\u001b[0m in \u001b[0;36mbins\u001b[1;34m(self, bins)\u001b[0m\n\u001b[0;32m    433\u001b[0m         \u001b[1;31m# Check the bin values.\u001b[0m\u001b[1;33m\u001b[0m\u001b[1;33m\u001b[0m\u001b[0m\n\u001b[0;32m    434\u001b[0m         cv.check_iterable_type('filter bins', bins,\n\u001b[1;32m--> 435\u001b[1;33m                                (Integral, self.expected_type))\n\u001b[0m\u001b[0;32m    436\u001b[0m         \u001b[1;32mfor\u001b[0m \u001b[0medge\u001b[0m \u001b[1;32min\u001b[0m \u001b[0mbins\u001b[0m\u001b[1;33m:\u001b[0m\u001b[1;33m\u001b[0m\u001b[0m\n\u001b[0;32m    437\u001b[0m             \u001b[1;32mif\u001b[0m \u001b[0misinstance\u001b[0m\u001b[1;33m(\u001b[0m\u001b[0medge\u001b[0m\u001b[1;33m,\u001b[0m \u001b[0mIntegral\u001b[0m\u001b[1;33m)\u001b[0m\u001b[1;33m:\u001b[0m\u001b[1;33m\u001b[0m\u001b[0m\n",
      "\u001b[1;32m/opt/openmc/gnu-dev/openmc/checkvalue.py\u001b[0m in \u001b[0;36mcheck_iterable_type\u001b[1;34m(name, value, expected_type, min_depth, max_depth)\u001b[0m\n\u001b[0;32m    128\u001b[0m                 \u001b[0mmsg\u001b[0m \u001b[1;33m=\u001b[0m \u001b[1;34m\"Error setting {0}: Items must be of type '{1}', but \"\u001b[0m\u001b[0;31m \u001b[0m\u001b[0;31m\\\u001b[0m\u001b[1;33m\u001b[0m\u001b[0m\n\u001b[0;32m    129\u001b[0m                       \u001b[1;34m\"item at {2} is of type '{3}'\"\u001b[0m\u001b[0;31m\\\u001b[0m\u001b[1;33m\u001b[0m\u001b[0m\n\u001b[1;32m--> 130\u001b[1;33m                       .format(name, expected_type.__name__, ind_str,\n\u001b[0m\u001b[0;32m    131\u001b[0m                               type(current_item).__name__)\n\u001b[0;32m    132\u001b[0m                 \u001b[1;32mraise\u001b[0m \u001b[0mTypeError\u001b[0m\u001b[1;33m(\u001b[0m\u001b[0mmsg\u001b[0m\u001b[1;33m)\u001b[0m\u001b[1;33m\u001b[0m\u001b[0m\n",
      "\u001b[1;31mAttributeError\u001b[0m: 'tuple' object has no attribute '__name__'"
     ]
    }
   ],
   "source": [
    "def main():\n",
    "    #result=Q1a()\n",
    "    #plotK(result[0],result[1],'Q1acurve')\n",
    "    Q1b()\n",
    "\n",
    "main()"
   ]
  },
  {
   "cell_type": "code",
   "execution_count": null,
   "metadata": {
    "collapsed": true
   },
   "outputs": [],
   "source": []
  }
 ],
 "metadata": {
  "anaconda-cloud": {},
  "kernelspec": {
   "display_name": "Python 3",
   "language": "python",
   "name": "python3"
  },
  "language_info": {
   "codemirror_mode": {
    "name": "ipython",
    "version": 3
   },
   "file_extension": ".py",
   "mimetype": "text/x-python",
   "name": "python",
   "nbconvert_exporter": "python",
   "pygments_lexer": "ipython3",
   "version": "3.5.4"
  }
 },
 "nbformat": 4,
 "nbformat_minor": 1
}
