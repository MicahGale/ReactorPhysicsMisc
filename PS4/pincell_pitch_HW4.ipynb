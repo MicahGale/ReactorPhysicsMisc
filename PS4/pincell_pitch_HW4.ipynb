{
 "cells": [
  {
   "cell_type": "code",
   "execution_count": 27,
   "metadata": {
    "collapsed": true,
    "scrolled": false
   },
   "outputs": [],
   "source": [
    "%matplotlib inline\n",
    "import matplotlib.pyplot as plt\n",
    "import openmc\n",
    "\n",
    "import os\n",
    "import numpy as np"
   ]
  },
  {
   "cell_type": "code",
   "execution_count": 28,
   "metadata": {
    "collapsed": false,
    "scrolled": false
   },
   "outputs": [],
   "source": [
    "#Initial starting source, uniform in fuel only\n",
    "bounds = [-0.4, -0.4, -0.4, 0.4, 0.4, 0.4]\n",
    "uniform_dist = openmc.stats.Box(bounds[:3], bounds[3:], only_fissionable=True)\n",
    "\n",
    "#constants for part switches\n",
    "PART_A= 0b001\n",
    "PART_B= 0b010\n",
    "PART_C= 0b100"
   ]
  },
  {
   "cell_type": "code",
   "execution_count": 29,
   "metadata": {
    "collapsed": true,
    "scrolled": false
   },
   "outputs": [],
   "source": [
    "batches=100\n",
    "settings = openmc.Settings()\n",
    "settings.source = openmc.source.Source(space=uniform_dist)\n",
    "settings.batches = batches\n",
    "settings.inactive = 25  # keep this at a min of 25, this is the number of power iterations performed, more is always better\n",
    "settings.particles = 10000  # increase this number to make your results more accurate\n",
    "#settings.particles=100\n",
    "settings.temperature = {'tolerance':10000,'multipole':True}\n",
    "#settings.temperature = {'method':'interpolation','multipole':True}\n",
    "settings.export_to_xml()\n",
    "\n",
    "def buildRange(lower, upper, steps):\n",
    "    out=[]\n",
    "    stepSize=(upper-lower)/(steps)\n",
    "    buffer=lower\n",
    "    while buffer<=upper:\n",
    "        out.append(buffer)\n",
    "        buffer+=stepSize\n",
    "    return out"
   ]
  },
  {
   "cell_type": "code",
   "execution_count": 30,
   "metadata": {
    "collapsed": false,
    "scrolled": false
   },
   "outputs": [],
   "source": [
    "\n",
    "def getU(T,DyFrac,enrich):\n",
    "    #got to watch out for those Uranium diggers\n",
    "    #nukeLife\n",
    "    uo2 = openmc.Material(1,\"fuel\",temperature=T)\n",
    "    uo2.add_element('U', 1.0, enrichment=enrich)\n",
    "    uo2.add_element('Dy',2.0*DyFrac)\n",
    "    uo2.add_element('O', 2.0+3.0*DyFrac)\n",
    "    uo2.set_density('g/cc', 10.0)\n",
    "    return uo2\n",
    "def getZirc():\n",
    "    zirconium = openmc.Material(2, \"zirconium\", temperature=temp2)\n",
    "    zirconium.add_element('Zr', 1.0)\n",
    "    zirconium.set_density('g/cm3', 6.6)\n",
    "    return zirconium\n",
    "\n",
    "def getMod(mod, boron,T):\n",
    "    if(mod==\"H2O\"):\n",
    "            #this function creates borated light water, for other moderators you will need to replace\n",
    "        mod = openmc.model.borated_water(boron_ppm=boron, temperature=T,pressure=15)\n",
    "    elif(mod==\"D2O\"):\n",
    "        mod=openmc.Material(3,\"heavy_water\",temperature=T)\n",
    "        mod.add_nuclide('H2',2.0) #add D2\n",
    "        mod.add_element('O',1.0) #add 0\n",
    "        mod.set_density('g/cc',0.725) \n",
    "        mod.add_s_alpha_beta('c_D_in_D2O')\n",
    "        #https://webbook.nist.gov/cgi/fluid.cgi?P=15.5&TLow=600&THigh=601&TInc=0.5&Applet=on&Digits=5&ID=C7789200&Action=Load&Type=IsoBar&TUnit=K&PUnit=MPa&DUnit=kg%2Fm3&HUnit=kJ%2Fmol&WUnit=m%2Fs&VisUnit=uPa*s&STUnit=N%2Fm&RefState=DEF\n",
    "    elif(mod==\"GRPHT\"):\n",
    "        mod=openmc.Material(3,\"Graphite\",temperature=T)\n",
    "        mod.add_element('C',1.0)\n",
    "        mod.set_density('g/cc',1.662)\n",
    "        mod.add_s_alpha_beta('c_Graphite')\n",
    "    return mod\n",
    "\n",
    "\n"
   ]
  },
  {
   "cell_type": "code",
   "execution_count": 31,
   "metadata": {
    "collapsed": false,
    "scrolled": false
   },
   "outputs": [],
   "source": [
    "def buildTallies(cell_filter):\n",
    "    ###################################Tallies#######################\n",
    "    #tallies over 2 energy groups with 4 eV being thermal bound\n",
    "    energy_filter = openmc.EnergyFilter([0., 4.0, 20.0e6])\n",
    "    t = openmc.Tally(1)\n",
    "    t.filters = [cell_filter, energy_filter]\n",
    "    # these are the main reaction rates you should need\n",
    "    t.scores = ['absorption','nu-fission','fission']\n",
    "    tallies = openmc.Tallies([t])\n",
    "    tallies.export_to_xml()\n",
    "    \n",
    "    \n",
    "def parseK(batch):\n",
    "    #read in the tallies\n",
    "    sp = openmc.StatePoint('statepoint.'+str(batch)+'.h5')\n",
    "    # this reads the tally with all reaction rates, not just absorption\n",
    "    tally = sp.get_tally(scores=['absorption'])\n",
    "    # this is the final k-effective of the simulation\n",
    "    ret=sp.k_combined[0]\n",
    "    sp._f.close()\n",
    "    del sp\n",
    "    return ret \n",
    "\n",
    "def parse4Factor(batch,fuel,mod):\n",
    "        #read in the tallies\n",
    "    sp = openmc.StatePoint('statepoint.'+str(batch)+'.h5')\n",
    "    \n",
    "    uniFilter = openmc.CellFilter([fuel, mod])\n",
    "    fuelFilter=openmc.CellFilter([fuel])\n",
    "    # this reads the tally with all reaction rates, not just absorption\n",
    "    tally = sp.get_tally(scores=['absorption'])\n",
    "    data=tally.get_pandas_dataframe()\n",
    "    #data=dat.set_index(\"cell\",drop=False)\n",
    "    \n",
    "    #parse dem data (gotta use proper plural grammar)\n",
    "    nuFiss= data.iloc[1,5]+data.iloc[4,5]   #sum all fission neutrons produced\n",
    "    absorbFuel=data.iloc[3,5]+data.iloc[0,5] #all absorptions in the fuel\n",
    "    absorbTotal=absorbFuel+data.iloc[6,5]+data.iloc[9,5] #all absorptions\n",
    "    thermalized=data.iloc[0,5]+data.iloc[2,5]+data.iloc[6,5]   #all absorptions and fissions below thermal (since no leakage)\n",
    "    thermalFiss=data.iloc[2,5]\n",
    "    \n",
    "    eta=nuFiss/absorbFuel\n",
    "    f=absorbFuel/absorbTotal\n",
    "    p=thermalized/nuFiss\n",
    "    eps=nuFiss/thermalFiss\n",
    "    \n",
    "    return np.array([eta,f,p,eps])"
   ]
  },
  {
   "cell_type": "code",
   "execution_count": 32,
   "metadata": {
    "collapsed": false
   },
   "outputs": [],
   "source": [
    "\n",
    "def plotK(pitch,k,fileName):\n",
    "    plt.figure(figsize=(20,10))\n",
    "    plt.plot(pitch,k[:,0], linewidth=10)\n",
    "    plt.legend(['0ppm Boron'], fontsize=30)\n",
    "    plt.xlabel('Pitch', fontsize=30)\n",
    "    plt.ylabel('k', fontsize=30)\n",
    "    plt.xticks(fontsize=24)\n",
    "    plt.yticks(fontsize=24)\n",
    "    plt.savefig(fileName+'.pdf', bbox_inches='tight')\n",
    "\n",
    "def plot4F(pitch,data,fileName):\n",
    "    plt.figure(figsize=(20,10))\n",
    "    print(data[:,:,0])\n",
    "    plt.plot(pitch,data[:,:,0], linewidth=10)\n",
    "    plt.plot(pitch,data[:,:,1], linewidth=10)\n",
    "    plt.plot(pitch,data[:,:,2], linewidth=10)\n",
    "    plt.plot(pitch,data[:,:,3], linewidth=10)\n",
    "    plt.legend(['Reproduction Factor','Thermal utulization','Ressonance escape','fast fission'], fontsize=30)\n",
    "    plt.xlabel('Pitch', fontsize=30)\n",
    "    #plt.ylabel('k', fontsize=30)\n",
    "    plt.xticks(fontsize=24)\n",
    "    plt.yticks(fontsize=24)\n",
    "    plt.savefig(fileName+'.pdf', bbox_inches='tight')\n",
    "\n",
    "def plotDy(k,Dy,fileName):\n",
    "    iterator=[]\n",
    "    j=1\n",
    "    for i in k:\n",
    "        iterator.append(j)\n",
    "        j=j+1\n",
    "    plt.figure(figsize=(20,10))\n",
    "    plt.plot(iterator[:],k[:], linewidth=10)\n",
    "    plt.xlabel('iteration', fontsize=30)\n",
    "    plt.ylabel('k', fontsize=30)\n",
    "    plt.xticks(fontsize=24)\n",
    "    plt.yticks(fontsize=24)\n",
    "    plt.savefig(fileName+'K.pdf', bbox_inches='tight')\n",
    "    plt.figure(figsize=(20,10))\n",
    "    plt.plot(iterator[:],Dy[:], linewidth=10)\n",
    "    plt.xlabel('iteration', fontsize=30)\n",
    "    plt.ylabel('Dy2O3 atom fraction', fontsize=30)\n",
    "    plt.xticks(fontsize=24)\n",
    "    plt.yticks(fontsize=24)\n",
    "    plt.savefig(fileName+'Dy.pdf', bbox_inches='tight')"
   ]
  },
  {
   "cell_type": "code",
   "execution_count": 33,
   "metadata": {
    "collapsed": false,
    "scrolled": false
   },
   "outputs": [],
   "source": [
    "def buildRectangUni(modSetting, pitch, diameter,boron,modT,fuelT,DyFrac,enrich):\n",
    "    uo2=getU(fuelT,DyFrac,enrich)\n",
    "    mod=getMod(modSetting,boron,modT) #loads the moderator\n",
    "    mats = openmc.Materials([uo2, mod])\n",
    "    mats.export_to_xml()\n",
    "       \n",
    "    ####################build the surfaces################################\n",
    "    fuel_or = openmc.ZCylinder(R=diameter/2)\n",
    "    box = openmc.get_rectangular_prism(width=pitch, height=pitch,boundary_type='reflective')\n",
    "        \n",
    "    #################Build the Cells #######################################\n",
    "    fuel_region = -fuel_or   #beautiful abuse of operator overloading\n",
    "    mod_region = box & +fuel_or\n",
    "    # c\n",
    "    # c Fuel \n",
    "    # c\n",
    "    # c throwback to MCNP\n",
    "    fuel = openmc.Cell(1, 'fuel')\n",
    "    fuel.fill = uo2\n",
    "    fuel.region = fuel_region\n",
    "    #\n",
    "    # Moderator \n",
    "    #\n",
    "    moderator = openmc.Cell(4, 'moderator')\n",
    "    moderator.fill = mod\n",
    "    moderator.region = mod_region\n",
    "       \n",
    "    #I am groot!\n",
    "    groot = openmc.Universe(cells=(fuel, moderator))\n",
    "    geom = openmc.Geometry(groot)\n",
    "    geom.export_to_xml()\n",
    "    cell_filter = openmc.CellFilter([fuel, moderator])\n",
    "    # tallies\n",
    "    buildTallies(cell_filter)\n",
    "    return (fuel,moderator)"
   ]
  },
  {
   "cell_type": "code",
   "execution_count": 34,
   "metadata": {
    "collapsed": true
   },
   "outputs": [],
   "source": [
    "def buildTriangUni(modSetting,pitch,diameter,boron,modT,fuelT,DyFrac,enrich):\n",
    "    uo2=getU(fuelT,DyFrac,enrich)\n",
    "    mod=getMod(modSetting,boron,modT) #loads the moderator\n",
    "    mats = openmc.Materials([uo2, mod])\n",
    "    mats.export_to_xml()\n",
    "       \n",
    "    ####################build the surfaces################################\n",
    "    fuel_or1 = openmc.ZCylinder(R=diameter/2)\n",
    "    box = openmc.get_hexagonal_prism(edge_length=pitch/sqrt(3.0),boundary_type='reflective')\n",
    "        \n",
    "    #################Build the Cells #######################################\n",
    "    fuel_region = -fuel_or   #beautiful abuse of operator overloading\n",
    "    mod_region = box & +fuel_or\n",
    "    # c\n",
    "    # c Fuel \n",
    "    # c\n",
    "    # c throwback to MCNP\n",
    "    fuel = openmc.Cell(1, 'fuel')\n",
    "    fuel.fill = uo2\n",
    "    fuel.region = fuel_region\n",
    "    #\n",
    "    # Moderator \n",
    "    #\n",
    "    moderator = openmc.Cell(4, 'moderator')\n",
    "    moderator.fill = mod\n",
    "    moderator.region = mod_region\n",
    "       \n",
    "    #I am groot!\n",
    "    groot = openmc.Universe(cells=(fuel, moderator))\n",
    "    geom = openmc.Geometry(groot)\n",
    "    geom.export_to_xml()\n",
    "    cell_filter = openmc.CellFilter([fuel, moderator])\n",
    "    # tallies\n",
    "    buildTallies(cell_filter)\n",
    "    return (fuel,moderator)"
   ]
  },
  {
   "cell_type": "code",
   "execution_count": null,
   "metadata": {
    "collapsed": true
   },
   "outputs": [],
   "source": [
    "def Q1C():\n",
    "    pitch = 13\n",
    "    boron = 0\n",
    "    modT = 900  #fuel temp\n",
    "    fuelT = 600  #mod temp\n",
    "    modSetting=\"D2O\"\n",
    "    diameter=1.0\n",
    "    k= 6.0\n",
    "    kHist=1.26289858\n",
    "    tolerance=5e-3\n",
    "    DyFrac=0.0001\n",
    "    DyHist=0.0\n",
    "    DyPast=[DyFrac]\n",
    "    kPast=[kHist]\n",
    "    #build the problem first\n",
    "    while(abs(k-1)>tolerance):\n",
    "        buildRectangUni(modSetting,pitch,diameter,boron,modT,fuelT,DyFrac,0.711)\n",
    "        print (\"Dy Fraction: \"+str(DyFrac))\n",
    "        openmc.run(output=False) #run it and update the current k\n",
    "        k=parseK(batches)\n",
    "        print(\"K: \"+str(k))\n",
    "        DyWorth=(k-kHist)/(k*kHist*(DyFrac)) #calculates the worth of Dy fractions\n",
    "        print(\"Dy Worth: \"+str(DyWorth))\n",
    "        DyPast.append(DyFrac)\n",
    "        DyHist=DyFrac\n",
    "        DyFrac=DyFrac+(1-k)/(DyWorth)\n",
    "        #kHist=k\n",
    "        kPast.append(k)\n",
    "    plotDy(kPast,DyPast,'Q1Crit')\n",
    "    "
   ]
  },
  {
   "cell_type": "code",
   "execution_count": null,
   "metadata": {
    "collapsed": true
   },
   "outputs": [],
   "source": [
    "def Q2C():\n",
    "    pitch = 6.3\n",
    "    boron = 0\n",
    "    modT = 900  #fuel temp\n",
    "    fuelT = 600  #mod temp\n",
    "    modSetting=\"GRPHT\"\n",
    "    diameter=1.0\n",
    "    k= 6.0\n",
    "    kHist=1.02851052396\n",
    "    tolerance=5e-3\n",
    "    enrich=0.711\n",
    "    UPast=[enrich]\n",
    "    kPast=[kHist]\n",
    "    #build the problem first\n",
    "    while(abs(k-1)>tolerance):\n",
    "        buildRectangUni(modSetting,pitch,diameter,boron,modT,fuelT,0.0,enrich)\n",
    "        print (\"Enrichment: \"+str(enrich))\n",
    "        openmc.run(output=False) #run it and update the current k\n",
    "        k=parseK(batches)\n",
    "        print(\"K: \"+str(k))\n",
    "        UWorth=(k-kHist)/(k*kHist*(enrich)) #calculates the worth of Dy fractions\n",
    "        print(\"Enrichment worth: \"+str(UWorth))\n",
    "        UPast.append(enrich)\n",
    "        enrich=enrich+(1-k)/enrich\n",
    "        kPast.append(k)\n",
    "    plotDy(kPast,UPast,'Q2Crit')\n",
    "        "
   ]
  },
  {
   "cell_type": "code",
   "execution_count": 35,
   "metadata": {
    "collapsed": false,
    "scrolled": false
   },
   "outputs": [],
   "source": [
    "def rectQ(quest,part):\n",
    "    global PART_A\n",
    "    global PART_B\n",
    "    global PART_C\n",
    "    if((part & PART_A==PART_A) or (part & PART_B ==PART_B)): #only do this if doing part a and b\n",
    "        pitch = buildRange(2,25,6)\n",
    "        boron = [0]\n",
    "        nt = len(pitch)\n",
    "        nb = len(boron)\n",
    "        modT = 900  #fuel temp\n",
    "        fuelT = 600  #mod temp\n",
    "        if(quest==1):\n",
    "            modSetting=\"D2O\"\n",
    "        elif(quest==2):\n",
    "            modSetting=\"GRPHT\"\n",
    "        elif(quest==3):\n",
    "            modSetting=\"H2O\" #question 3 uses lightwater\n",
    "        diameter=1.0\n",
    "        if(quest==1 or quest==2):\n",
    "            enrich=0.711         #that nat U\n",
    "        elif(quest==3):\n",
    "            enrich=4.0\n",
    "        k = np.zeros([nt,nb])\n",
    "        data=np.zeros([nt,nb,4])\n",
    "        for m in range(nb):\n",
    "            for j in range(nt):\n",
    "                #build the problem first\n",
    "                (fuel,moderator)=buildRectangUni(modSetting,pitch[j],diameter,boron[m],modT,fuelT,0.0,enrich)\n",
    "                print (\"Pitch: \"+str(pitch[j])+\" Boron: \"+str(boron[m]))\n",
    "                openmc.run(output=False)\n",
    "                if(part& PART_A==PART_A):\n",
    "                    k[j,m] = parseK(batches)\n",
    "                if(part & PART_B==PART_B):\n",
    "                    data[j,m] = parse4Factor(batches,fuel,moderator)\n",
    "                os.remove('statepoint.'+str(batches)+'.h5')\n",
    "                os.remove('summary.h5')\n",
    "        if(part & PART_A==PART_A): #test if the part a bit is set\n",
    "            plotK(pitch,k,'Q'+str(quest)+'acurve')\n",
    "            print(k)\n",
    "        if(part & PART_B==PART_B):\n",
    "            plot4F(pitch,data,'Q'+str(quest)+'b4Factor')\n",
    "    #part c executor\n",
    "    if(part & PART_C==PART_C):\n",
    "        if(quest==1):\n",
    "            Q1C()\n",
    "        elif(quest==2):\n",
    "            Q2C()\n"
   ]
  },
  {
   "cell_type": "code",
   "execution_count": 36,
   "metadata": {
    "collapsed": false
   },
   "outputs": [],
   "source": [
    "def triangQ(quest,part):\n",
    "        pitch = buildRange(2,25,6)\n",
    "        boron = [0]\n",
    "        nt = len(pitch)\n",
    "        nb = len(boron)\n",
    "        modT = 900  #fuel temp\n",
    "        fuelT = 600  #mod temp\n",
    "        if(quest==1):\n",
    "            modSetting=\"D2O\"\n",
    "        elif(quest==2):\n",
    "            modSetting=\"GRPHT\"\n",
    "        elif(quest==3):\n",
    "            modSetting=\"H2O\" #question 3 uses lightwater\n",
    "        diameter=1.0\n",
    "        if(quest==1 or quest==2):\n",
    "            enrich=0.711         #that nat U\n",
    "        elif(quest==3):\n",
    "            enrich=4.0\n",
    "        k = np.zeros([nt,nb])\n",
    "        for m in range(nb):\n",
    "            for j in range(nt):\n",
    "                #build the problem first\n",
    "                (fuel,moderator)=buildTriangUni(modSetting,pitch[j],diameter,boron[m],modT,fuelT,0.0,enrich)\n",
    "                print (\"Pitch: \"+str(pitch[j])+\" Boron: \"+str(boron[m]))\n",
    "                openmc.run(output=False)\n",
    "                if(part& PART_A==PART_A):\n",
    "                    k[j,m] = parseK(batches)\n",
    "                if(part & PART_B==PART_B):\n",
    "                    data[j,m] = parse4Factor(batches,fuel,moderator)\n",
    "                os.remove('statepoint.'+str(batches)+'.h5')\n",
    "                os.remove('summary.h5')\n",
    "        if(part & PART_A==PART_A): #test if the part a bit is set\n",
    "            plotK(pitch,k,'Q'+str(quest)+'aTriangcurve')\n",
    "            print(k)\n",
    "    "
   ]
  },
  {
   "cell_type": "code",
   "execution_count": 37,
   "metadata": {
    "collapsed": false
   },
   "outputs": [
    {
     "name": "stderr",
     "output_type": "stream",
     "text": [
      "/opt/openmc/gnu-dev/openmc/mixin.py:71: IDWarning: Another Material instance already exists with id=1.\n",
      "  warn(msg, IDWarning)\n",
      "/opt/openmc/gnu-dev/openmc/mixin.py:71: IDWarning: Another Material instance already exists with id=3.\n",
      "  warn(msg, IDWarning)\n",
      "/opt/openmc/gnu-dev/openmc/mixin.py:71: IDWarning: Another Cell instance already exists with id=1.\n",
      "  warn(msg, IDWarning)\n",
      "/opt/openmc/gnu-dev/openmc/mixin.py:71: IDWarning: Another Cell instance already exists with id=4.\n",
      "  warn(msg, IDWarning)\n",
      "/opt/openmc/gnu-dev/openmc/mixin.py:71: IDWarning: Another Tally instance already exists with id=1.\n",
      "  warn(msg, IDWarning)\n"
     ]
    },
    {
     "name": "stdout",
     "output_type": "stream",
     "text": [
      "Enrichment: 0.711\n",
      "K: 1.03260885001"
     ]
    },
    {
     "name": "stderr",
     "output_type": "stream",
     "text": [
      "/opt/openmc/gnu-dev/openmc/mixin.py:71: IDWarning: Another Material instance already exists with id=1.\n",
      "  warn(msg, IDWarning)\n",
      "/opt/openmc/gnu-dev/openmc/mixin.py:71: IDWarning: Another Material instance already exists with id=3.\n",
      "  warn(msg, IDWarning)\n",
      "/opt/openmc/gnu-dev/openmc/mixin.py:71: IDWarning: Another Cell instance already exists with id=1.\n",
      "  warn(msg, IDWarning)\n",
      "/opt/openmc/gnu-dev/openmc/mixin.py:71: IDWarning: Another Cell instance already exists with id=4.\n",
      "  warn(msg, IDWarning)\n",
      "/opt/openmc/gnu-dev/openmc/mixin.py:71: IDWarning: Another Tally instance already exists with id=1.\n",
      "  warn(msg, IDWarning)\n"
     ]
    },
    {
     "name": "stdout",
     "output_type": "stream",
     "text": [
      "\n",
      "Enrichment worth: 0.00542740616486\n",
      "Enrichment: 0.665136638516\n",
      "K: 1.00539958793"
     ]
    },
    {
     "name": "stderr",
     "output_type": "stream",
     "text": [
      "/opt/openmc/gnu-dev/openmc/mixin.py:71: IDWarning: Another Material instance already exists with id=1.\n",
      "  warn(msg, IDWarning)\n",
      "/opt/openmc/gnu-dev/openmc/mixin.py:71: IDWarning: Another Material instance already exists with id=3.\n",
      "  warn(msg, IDWarning)\n",
      "/opt/openmc/gnu-dev/openmc/mixin.py:71: IDWarning: Another Cell instance already exists with id=1.\n",
      "  warn(msg, IDWarning)\n",
      "/opt/openmc/gnu-dev/openmc/mixin.py:71: IDWarning: Another Cell instance already exists with id=4.\n",
      "  warn(msg, IDWarning)\n",
      "/opt/openmc/gnu-dev/openmc/mixin.py:71: IDWarning: Another Tally instance already exists with id=1.\n",
      "  warn(msg, IDWarning)\n"
     ]
    },
    {
     "name": "stdout",
     "output_type": "stream",
     "text": [
      "\n",
      "Enrichment worth: -0.0336015430407\n",
      "Enrichment: 0.657018625434\n",
      "K: 0.999126016483\n",
      "Enrichment worth: -0.0435222888327\n"
     ]
    },
    {
     "data": {
      "image/png": "[encoded data removed]",
      "text/plain": [
       "<matplotlib.figure.Figure at 0x7fadba38ee80>"
      ]
     },
     "metadata": {},
     "output_type": "display_data"
    },
    {
     "data": {
      "image/png": "[encoded data removed]",
      "text/plain": [
       "<matplotlib.figure.Figure at 0x7fadb0a4e390>"
      ]
     },
     "metadata": {},
     "output_type": "display_data"
    }
   ],
   "source": [
    "def main():\n",
    "    q1part=PART_C   #does part a and b\n",
    "    #rectQ(1,q1part)\n",
    "    q2part=PART_C\n",
    "    rectQ(2,q2part)\n",
    "    #q3part=PART_A \n",
    "    #rectQ(3,q3part)\n",
    "    #triangQ(3,q3part)\n",
    "    \n",
    "\n",
    "main()"
   ]
  },
  {
   "cell_type": "code",
   "execution_count": null,
   "metadata": {
    "collapsed": true
   },
   "outputs": [],
   "source": []
  }
 ],
 "metadata": {
  "anaconda-cloud": {},
  "kernelspec": {
   "display_name": "Python 3",
   "language": "python",
   "name": "python3"
  },
  "language_info": {
   "codemirror_mode": {
    "name": "ipython",
    "version": 3
   },
   "file_extension": ".py",
   "mimetype": "text/x-python",
   "name": "python",
   "nbconvert_exporter": "python",
   "pygments_lexer": "ipython3",
   "version": "3.5.4"
  }
 },
 "nbformat": 4,
 "nbformat_minor": 1
}
